{
 "cells": [
  {
   "cell_type": "code",
   "execution_count": null,
   "metadata": {},
   "outputs": [],
   "source": [
    "SOS_token = char2index['<s>']\n",
    "EOS_token = char2index['</s>']\n",
    "PAD_token = char2index['_']\n",
    "\n",
    "enc = EncoderRNN(80, 256 ,\n",
    "                 input_dropout_p = 0.3, dropout_p = 0.3,\n",
    "                 n_layers = 6,\n",
    "                 bidirectional = True, rnn_cell = 'gru', variable_lengths = False)\n",
    "\n",
    "dec = DecoderRNN(len(char2index), 80, 512,\n",
    "                 SOS_token, EOS_token,\n",
    "                 n_layers = h_params.decoder_layer_size, rnn_cell = 'gru', bidirectional = h_params.bidirectional,\n",
    "                 input_dropout_p = h_params.dropout, dropout_p = h_params.dropout, use_attention = h_params.attention)"
   ]
  }
 ],
 "metadata": {
  "kernelspec": {
   "display_name": "Python 3",
   "language": "python",
   "name": "python3"
  },
  "language_info": {
   "codemirror_mode": {
    "name": "ipython",
    "version": 3
   },
   "file_extension": ".py",
   "mimetype": "text/x-python",
   "name": "python",
   "nbconvert_exporter": "python",
   "pygments_lexer": "ipython3",
   "version": "3.7.1"
  }
 },
 "nbformat": 4,
 "nbformat_minor": 2
}
