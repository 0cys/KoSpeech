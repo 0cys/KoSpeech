{
 "cells": [
  {
   "cell_type": "code",
   "execution_count": 1,
   "metadata": {},
   "outputs": [],
   "source": [
    "from e2e.modules.checkpoint import Checkpoint"
   ]
  },
  {
   "cell_type": "code",
   "execution_count": 2,
   "metadata": {},
   "outputs": [],
   "source": [
    "checkpoint = Checkpoint()\n",
    "latest_checkpoint_path = checkpoint.get_latest_checkpoint()"
   ]
  },
  {
   "cell_type": "code",
   "execution_count": 3,
   "metadata": {},
   "outputs": [
    {
     "data": {
      "text/plain": [
       "'./data\\\\checkpoints\\\\____.txt'"
      ]
     },
     "execution_count": 3,
     "metadata": {},
     "output_type": "execute_result"
    }
   ],
   "source": [
    "latest_checkpoint_path"
   ]
  },
  {
   "cell_type": "code",
   "execution_count": 1,
   "metadata": {},
   "outputs": [],
   "source": [
    "from e2e.model.listener import Listener\n",
    "from e2e.model.speller import Speller\n",
    "from e2e.model.las import ListenAttendSpell"
   ]
  },
  {
   "cell_type": "code",
   "execution_count": 7,
   "metadata": {},
   "outputs": [],
   "source": [
    "listener = Listener(80, 256, 'cpu', dropout_p=0.3, num_layers=3,\n",
    "                 bidirectional=True, rnn_type='lstm', extractor='vgg')"
   ]
  },
  {
   "cell_type": "code",
   "execution_count": 8,
   "metadata": {},
   "outputs": [],
   "source": [
    "speller = Speller( 2038, 151, 512, 1, 2, attn_mechanism='loc',\n",
    "                 num_heads=8, num_layers=2, rnn_type='lstm', dropout_p=0.3, device='cpu')"
   ]
  },
  {
   "cell_type": "code",
   "execution_count": 9,
   "metadata": {},
   "outputs": [],
   "source": [
    "model = ListenAttendSpell(listener, speller)"
   ]
  },
  {
   "cell_type": "code",
   "execution_count": 10,
   "metadata": {},
   "outputs": [
    {
     "data": {
      "text/plain": [
       "ListenAttendSpell(\n",
       "  (listener): Listener(\n",
       "    (rnn): LSTM(2560, 256, num_layers=3, batch_first=True, dropout=0.3, bidirectional=True)\n",
       "    (extractor): VGGExtractor(\n",
       "      (cnn): MaskCNN(\n",
       "        (sequential): Sequential(\n",
       "          (0): Conv2d(1, 64, kernel_size=(3, 3), stride=(1, 1), padding=(1, 1), bias=False)\n",
       "          (1): Hardtanh(min_val=0, max_val=20, inplace=True)\n",
       "          (2): BatchNorm2d(64, eps=1e-05, momentum=0.1, affine=True, track_running_stats=True)\n",
       "          (3): Conv2d(64, 64, kernel_size=(3, 3), stride=(1, 1), padding=(1, 1), bias=False)\n",
       "          (4): Hardtanh(min_val=0, max_val=20, inplace=True)\n",
       "          (5): MaxPool2d(kernel_size=2, stride=2, padding=0, dilation=1, ceil_mode=False)\n",
       "          (6): BatchNorm2d(64, eps=1e-05, momentum=0.1, affine=True, track_running_stats=True)\n",
       "          (7): Conv2d(64, 128, kernel_size=(3, 3), stride=(1, 1), padding=(1, 1), bias=False)\n",
       "          (8): Hardtanh(min_val=0, max_val=20, inplace=True)\n",
       "          (9): BatchNorm2d(128, eps=1e-05, momentum=0.1, affine=True, track_running_stats=True)\n",
       "          (10): Conv2d(128, 128, kernel_size=(3, 3), stride=(1, 1), padding=(1, 1), bias=False)\n",
       "          (11): Hardtanh(min_val=0, max_val=20, inplace=True)\n",
       "          (12): MaxPool2d(kernel_size=2, stride=2, padding=0, dilation=1, ceil_mode=False)\n",
       "        )\n",
       "      )\n",
       "    )\n",
       "  )\n",
       "  (speller): Speller(\n",
       "    (rnn): LSTM(512, 512, num_layers=2, batch_first=True, dropout=0.3)\n",
       "    (embedding): Embedding(2038, 512)\n",
       "    (input_dropout): Dropout(p=0.3, inplace=False)\n",
       "    (out_projection): Linear(in_features=512, out_features=2038, bias=True)\n",
       "    (attention): LocationAwareAttention(\n",
       "      (loc_projection): Linear(in_features=10, out_features=64, bias=False)\n",
       "      (loc_conv): Conv1d(8, 10, kernel_size=(3,), stride=(1,), padding=(1,))\n",
       "      (query_projection): Linear(in_features=512, out_features=512, bias=False)\n",
       "      (value_projection): Linear(in_features=512, out_features=512, bias=False)\n",
       "      (score_projection): Linear(in_features=64, out_features=1, bias=True)\n",
       "      (out_projection): Linear(in_features=1024, out_features=512, bias=True)\n",
       "    )\n",
       "  )\n",
       ")"
      ]
     },
     "execution_count": 10,
     "metadata": {},
     "output_type": "execute_result"
    }
   ],
   "source": [
    "model"
   ]
  },
  {
   "cell_type": "code",
   "execution_count": null,
   "metadata": {},
   "outputs": [],
   "source": []
  }
 ],
 "metadata": {
  "kernelspec": {
   "display_name": "Python 3",
   "language": "python",
   "name": "python3"
  },
  "language_info": {
   "codemirror_mode": {
    "name": "ipython",
    "version": 3
   },
   "file_extension": ".py",
   "mimetype": "text/x-python",
   "name": "python",
   "nbconvert_exporter": "python",
   "pygments_lexer": "ipython3",
   "version": "3.7.1"
  }
 },
 "nbformat": 4,
 "nbformat_minor": 2
}
