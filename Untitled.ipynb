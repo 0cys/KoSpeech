{
 "cells": [
  {
   "cell_type": "code",
   "execution_count": 9,
   "metadata": {},
   "outputs": [],
   "source": [
    "from tqdm import trange\n",
    "import librosa\n",
    "import numpy as np\n",
    "import pandas as pd\n",
    "import torch\n",
    "DATASET_PATH = \"E:/한국어 음성데이터/KaiSpeech/\"\n",
    "TRAIN_LIST_PATH = \"./data/data_list/train_list.csv\""
   ]
  },
  {
   "cell_type": "code",
   "execution_count": 2,
   "metadata": {},
   "outputs": [],
   "source": [
    "def load_data_list(data_list_path, dataset_path):\n",
    "    data_list = pd.read_csv(data_list_path, \"r\", delimiter = \",\", encoding=\"cp949\")\n",
    "    audio_paths = list(dataset_path + data_list[\"audio\"])\n",
    "    label_paths = list(dataset_path + data_list[\"label\"])\n",
    "\n",
    "    return audio_paths, label_paths"
   ]
  },
  {
   "cell_type": "code",
   "execution_count": 3,
   "metadata": {},
   "outputs": [
    {
     "data": {
      "text/plain": [
       "['E:/한국어 음성데이터/KaiSpeech/KaiSpeech_103762.pcm',\n",
       " 'E:/한국어 음성데이터/KaiSpeech/KaiSpeech_126833.pcm',\n",
       " 'E:/한국어 음성데이터/KaiSpeech/KaiSpeech_367790.pcm',\n",
       " 'E:/한국어 음성데이터/KaiSpeech/KaiSpeech_005465.pcm',\n",
       " 'E:/한국어 음성데이터/KaiSpeech/KaiSpeech_133374.pcm']"
      ]
     },
     "execution_count": 3,
     "metadata": {},
     "output_type": "execute_result"
    }
   ],
   "source": [
    "audio_paths, label_paths = load_data_list(data_list_path=TRAIN_LIST_PATH, dataset_path=DATASET_PATH)\n",
    "audio_paths[:5]"
   ]
  },
  {
   "cell_type": "code",
   "execution_count": 4,
   "metadata": {},
   "outputs": [],
   "source": [
    "def get_librosa_mfcc(filepath = None, n_mfcc = 33, del_silence = False, input_reverse = True, format='pcm'):\n",
    "    if format == 'pcm':\n",
    "        try:\n",
    "            pcm = np.memmap(filepath, dtype='h', mode='r')\n",
    "        except: # exception handling\n",
    "            logger.info(\"np.memmap error in %s\" % filepath)\n",
    "            return torch.zeros(1)\n",
    "        sig = np.array([float(x) for x in pcm])\n",
    "    elif format == 'wav':\n",
    "        sig, _ = librosa.core.load(filepath, sr=16000)\n",
    "    else: logger.info(\"%s is not Supported\" % format)\n",
    "\n",
    "    if del_silence:\n",
    "        non_silence_indices = librosa.effects.split(sig, top_db=30)\n",
    "        sig = np.concatenate([sig[start:end] for start, end in non_silence_indices])\n",
    "    feat = librosa.feature.mfcc(y=sig,sr=16000, hop_length=160, n_mfcc=n_mfcc, n_fft=400, window='hamming')\n",
    "    if input_reverse:\n",
    "        feat = feat[:,::-1]\n",
    "\n",
    "    return torch.FloatTensor( np.ascontiguousarray( np.swapaxes(feat, 0, 1) ) )"
   ]
  },
  {
   "cell_type": "code",
   "execution_count": 5,
   "metadata": {},
   "outputs": [],
   "source": [
    "def spec_augment(feat, T=40, F=15, time_mask_num=2, freq_mask_num=2):\n",
    "    feat_size = feat.size(1)\n",
    "    seq_len = feat.size(0)\n",
    "\n",
    "    # time mask\n",
    "    for _ in range(time_mask_num):\n",
    "        t = np.random.uniform(low=0.0, high=T)\n",
    "        t = int(t)\n",
    "        t0 = random.randint(0, seq_len - t)\n",
    "        feat[t0 : t0 + t, :] = 0\n",
    "\n",
    "    # freq mask\n",
    "    for _ in range(freq_mask_num):\n",
    "        f = np.random.uniform(low=0.0, high=F)\n",
    "        f = int(f)\n",
    "        f0 = random.randint(0, feat_size - f)\n",
    "        feat[:, f0 : f0 + f] = 0\n",
    "\n",
    "    return feat"
   ]
  },
  {
   "cell_type": "code",
   "execution_count": 6,
   "metadata": {},
   "outputs": [],
   "source": [
    "def get_mfcc_pickle(audio_paths):\n",
    "    mfcc_list = []\n",
    "    for idx in trange(len(audio_paths)):\n",
    "        mfcc_list.append(get_librosa_mfcc(filepath=audio_paths[idx], \n",
    "                                          n_mfcc=33,\n",
    "                                          del_silence=False,\n",
    "                                          input_reverse=True,\n",
    "                                          format=\"pcm\"))\n",
    "    with open(\"./data/pickle/mfccs.txt\", \"wb\") as f:\n",
    "        pickle.dump(mfcc_list, f)"
   ]
  },
  {
   "cell_type": "code",
   "execution_count": 7,
   "metadata": {},
   "outputs": [],
   "source": [
    "def get_augment_pickle(audio_paths):\n",
    "    augment_list = []\n",
    "    for idx in trange(len(audio_paths)):\n",
    "        feat = get_librosa_mfcc(filepath=audio_paths[idx], \n",
    "                                          n_mfcc=33,\n",
    "                                          del_silence=False,\n",
    "                                          input_reverse=True,\n",
    "                                          format=\"pcm\")\n",
    "        augment_list.append(spec_augment(feat, T=40, F=15, time_mask_num=2, freq_mask_num=2))\n",
    "    with open(\"./data/pickle/augments.txt\", \"wb\") as f:\n",
    "        pickle.dump(augment_list, f)"
   ]
  },
  {
   "cell_type": "code",
   "execution_count": 10,
   "metadata": {},
   "outputs": [
    {
     "name": "stderr",
     "output_type": "stream",
     "text": [
      " 10%|██████▉                                                               | 62848/633700 [2:53:09<24:57:48,  6.35it/s]"
     ]
    },
    {
     "ename": "NameError",
     "evalue": "name 'logger' is not defined",
     "output_type": "error",
     "traceback": [
      "\u001b[1;31m---------------------------------------------------------------------------\u001b[0m",
      "\u001b[1;31mValueError\u001b[0m                                Traceback (most recent call last)",
      "\u001b[1;32m<ipython-input-4-4976fa00a4b5>\u001b[0m in \u001b[0;36mget_librosa_mfcc\u001b[1;34m(filepath, n_mfcc, del_silence, input_reverse, format)\u001b[0m\n\u001b[0;32m      3\u001b[0m         \u001b[1;32mtry\u001b[0m\u001b[1;33m:\u001b[0m\u001b[1;33m\u001b[0m\u001b[1;33m\u001b[0m\u001b[0m\n\u001b[1;32m----> 4\u001b[1;33m             \u001b[0mpcm\u001b[0m \u001b[1;33m=\u001b[0m \u001b[0mnp\u001b[0m\u001b[1;33m.\u001b[0m\u001b[0mmemmap\u001b[0m\u001b[1;33m(\u001b[0m\u001b[0mfilepath\u001b[0m\u001b[1;33m,\u001b[0m \u001b[0mdtype\u001b[0m\u001b[1;33m=\u001b[0m\u001b[1;34m'h'\u001b[0m\u001b[1;33m,\u001b[0m \u001b[0mmode\u001b[0m\u001b[1;33m=\u001b[0m\u001b[1;34m'r'\u001b[0m\u001b[1;33m)\u001b[0m\u001b[1;33m\u001b[0m\u001b[1;33m\u001b[0m\u001b[0m\n\u001b[0m\u001b[0;32m      5\u001b[0m         \u001b[1;32mexcept\u001b[0m\u001b[1;33m:\u001b[0m \u001b[1;31m# exception handling\u001b[0m\u001b[1;33m\u001b[0m\u001b[1;33m\u001b[0m\u001b[0m\n",
      "\u001b[1;32mC:\\ProgramData\\Anaconda3\\lib\\site-packages\\numpy\\core\\memmap.py\u001b[0m in \u001b[0;36m__new__\u001b[1;34m(subtype, filename, dtype, mode, offset, shape, order)\u001b[0m\n\u001b[0;32m    235\u001b[0m                 \u001b[0mfid\u001b[0m\u001b[1;33m.\u001b[0m\u001b[0mclose\u001b[0m\u001b[1;33m(\u001b[0m\u001b[1;33m)\u001b[0m\u001b[1;33m\u001b[0m\u001b[1;33m\u001b[0m\u001b[0m\n\u001b[1;32m--> 236\u001b[1;33m                 raise ValueError(\"Size of available data is not a \"\n\u001b[0m\u001b[0;32m    237\u001b[0m                         \"multiple of the data-type size.\")\n",
      "\u001b[1;31mValueError\u001b[0m: Size of available data is not a multiple of the data-type size.",
      "\nDuring handling of the above exception, another exception occurred:\n",
      "\u001b[1;31mNameError\u001b[0m                                 Traceback (most recent call last)",
      "\u001b[1;32m<ipython-input-10-9d9ba102f764>\u001b[0m in \u001b[0;36m<module>\u001b[1;34m\u001b[0m\n\u001b[1;32m----> 1\u001b[1;33m \u001b[0mget_mfcc_pickle\u001b[0m\u001b[1;33m(\u001b[0m\u001b[0maudio_paths\u001b[0m\u001b[1;33m)\u001b[0m\u001b[1;33m\u001b[0m\u001b[1;33m\u001b[0m\u001b[0m\n\u001b[0m\u001b[0;32m      2\u001b[0m \u001b[0mget_augment_pickle\u001b[0m\u001b[1;33m(\u001b[0m\u001b[0maudio_paths\u001b[0m\u001b[1;33m)\u001b[0m\u001b[1;33m\u001b[0m\u001b[1;33m\u001b[0m\u001b[0m\n",
      "\u001b[1;32m<ipython-input-6-6c2eb0c12399>\u001b[0m in \u001b[0;36mget_mfcc_pickle\u001b[1;34m(audio_paths)\u001b[0m\n\u001b[0;32m      6\u001b[0m                                           \u001b[0mdel_silence\u001b[0m\u001b[1;33m=\u001b[0m\u001b[1;32mFalse\u001b[0m\u001b[1;33m,\u001b[0m\u001b[1;33m\u001b[0m\u001b[1;33m\u001b[0m\u001b[0m\n\u001b[0;32m      7\u001b[0m                                           \u001b[0minput_reverse\u001b[0m\u001b[1;33m=\u001b[0m\u001b[1;32mTrue\u001b[0m\u001b[1;33m,\u001b[0m\u001b[1;33m\u001b[0m\u001b[1;33m\u001b[0m\u001b[0m\n\u001b[1;32m----> 8\u001b[1;33m                                           format=\"pcm\"))\n\u001b[0m\u001b[0;32m      9\u001b[0m     \u001b[1;32mwith\u001b[0m \u001b[0mopen\u001b[0m\u001b[1;33m(\u001b[0m\u001b[1;34m\"./data/pickle/mfccs.txt\"\u001b[0m\u001b[1;33m,\u001b[0m \u001b[1;34m\"wb\"\u001b[0m\u001b[1;33m)\u001b[0m \u001b[1;32mas\u001b[0m \u001b[0mf\u001b[0m\u001b[1;33m:\u001b[0m\u001b[1;33m\u001b[0m\u001b[1;33m\u001b[0m\u001b[0m\n\u001b[0;32m     10\u001b[0m         \u001b[0mpickle\u001b[0m\u001b[1;33m.\u001b[0m\u001b[0mdump\u001b[0m\u001b[1;33m(\u001b[0m\u001b[0mmfcc_list\u001b[0m\u001b[1;33m,\u001b[0m \u001b[0mf\u001b[0m\u001b[1;33m)\u001b[0m\u001b[1;33m\u001b[0m\u001b[1;33m\u001b[0m\u001b[0m\n",
      "\u001b[1;32m<ipython-input-4-4976fa00a4b5>\u001b[0m in \u001b[0;36mget_librosa_mfcc\u001b[1;34m(filepath, n_mfcc, del_silence, input_reverse, format)\u001b[0m\n\u001b[0;32m      4\u001b[0m             \u001b[0mpcm\u001b[0m \u001b[1;33m=\u001b[0m \u001b[0mnp\u001b[0m\u001b[1;33m.\u001b[0m\u001b[0mmemmap\u001b[0m\u001b[1;33m(\u001b[0m\u001b[0mfilepath\u001b[0m\u001b[1;33m,\u001b[0m \u001b[0mdtype\u001b[0m\u001b[1;33m=\u001b[0m\u001b[1;34m'h'\u001b[0m\u001b[1;33m,\u001b[0m \u001b[0mmode\u001b[0m\u001b[1;33m=\u001b[0m\u001b[1;34m'r'\u001b[0m\u001b[1;33m)\u001b[0m\u001b[1;33m\u001b[0m\u001b[1;33m\u001b[0m\u001b[0m\n\u001b[0;32m      5\u001b[0m         \u001b[1;32mexcept\u001b[0m\u001b[1;33m:\u001b[0m \u001b[1;31m# exception handling\u001b[0m\u001b[1;33m\u001b[0m\u001b[1;33m\u001b[0m\u001b[0m\n\u001b[1;32m----> 6\u001b[1;33m             \u001b[0mlogger\u001b[0m\u001b[1;33m.\u001b[0m\u001b[0minfo\u001b[0m\u001b[1;33m(\u001b[0m\u001b[1;34m\"np.memmap error in %s\"\u001b[0m \u001b[1;33m%\u001b[0m \u001b[0mfilepath\u001b[0m\u001b[1;33m)\u001b[0m\u001b[1;33m\u001b[0m\u001b[1;33m\u001b[0m\u001b[0m\n\u001b[0m\u001b[0;32m      7\u001b[0m             \u001b[1;32mreturn\u001b[0m \u001b[0mtorch\u001b[0m\u001b[1;33m.\u001b[0m\u001b[0mzeros\u001b[0m\u001b[1;33m(\u001b[0m\u001b[1;36m1\u001b[0m\u001b[1;33m)\u001b[0m\u001b[1;33m\u001b[0m\u001b[1;33m\u001b[0m\u001b[0m\n\u001b[0;32m      8\u001b[0m         \u001b[0msig\u001b[0m \u001b[1;33m=\u001b[0m \u001b[0mnp\u001b[0m\u001b[1;33m.\u001b[0m\u001b[0marray\u001b[0m\u001b[1;33m(\u001b[0m\u001b[1;33m[\u001b[0m\u001b[0mfloat\u001b[0m\u001b[1;33m(\u001b[0m\u001b[0mx\u001b[0m\u001b[1;33m)\u001b[0m \u001b[1;32mfor\u001b[0m \u001b[0mx\u001b[0m \u001b[1;32min\u001b[0m \u001b[0mpcm\u001b[0m\u001b[1;33m]\u001b[0m\u001b[1;33m)\u001b[0m\u001b[1;33m\u001b[0m\u001b[1;33m\u001b[0m\u001b[0m\n",
      "\u001b[1;31mNameError\u001b[0m: name 'logger' is not defined"
     ]
    }
   ],
   "source": [
    "get_mfcc_pickle(audio_paths)\n",
    "get_augment_pickle(audio_paths)"
   ]
  },
  {
   "cell_type": "code",
   "execution_count": null,
   "metadata": {},
   "outputs": [],
   "source": []
  }
 ],
 "metadata": {
  "kernelspec": {
   "display_name": "Python 3",
   "language": "python",
   "name": "python3"
  },
  "language_info": {
   "codemirror_mode": {
    "name": "ipython",
    "version": 3
   },
   "file_extension": ".py",
   "mimetype": "text/x-python",
   "name": "python",
   "nbconvert_exporter": "python",
   "pygments_lexer": "ipython3",
   "version": "3.7.1"
  }
 },
 "nbformat": 4,
 "nbformat_minor": 2
}
