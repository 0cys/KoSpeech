{
 "cells": [
  {
   "cell_type": "markdown",
   "metadata": {},
   "source": [
    "# Data Preprocessing"
   ]
  },
  {
   "cell_type": "markdown",
   "metadata": {},
   "source": [
    "* 필요한 라이브러리 import"
   ]
  },
  {
   "cell_type": "code",
   "execution_count": 1,
   "metadata": {},
   "outputs": [],
   "source": [
    "import os\n",
    "import pandas as pd\n",
    "from tqdm import trange\n",
    "import shutil"
   ]
  },
  {
   "cell_type": "markdown",
   "metadata": {},
   "source": [
    "* AI Hub 데이터셋을 저장한 베이스 폴더와 최상위 폴더 5개의 리스트를 미리 선언"
   ]
  },
  {
   "cell_type": "code",
   "execution_count": 2,
   "metadata": {},
   "outputs": [],
   "source": [
    "BASEPATH='E:/한국어 음성데이터'\n",
    "TOP_DIRS=[\n",
    "    'KsponSpeech_01',\n",
    "    'KsponSpeech_02',\n",
    "    'KsponSpeech_03',\n",
    "    'KsponSpeech_04',\n",
    "    'KsponSpeech_05'\n",
    "]"
   ]
  },
  {
   "cell_type": "markdown",
   "metadata": {},
   "source": [
    "* (철자전사) / (발음전사) 중 발음전사를 가져오는 함수"
   ]
  },
  {
   "cell_type": "code",
   "execution_count": 3,
   "metadata": {},
   "outputs": [],
   "source": [
    "def bracket_filter(sentence):\n",
    "    new_sentence = str()\n",
    "    flag = False\n",
    "    \n",
    "    for ch in sentence:\n",
    "        if ch == '(' and flag == False: \n",
    "            flag = True\n",
    "            continue\n",
    "        if ch == '(' and flag == True:\n",
    "            flag = False\n",
    "            continue\n",
    "        if ch != ')' and flag == False:\n",
    "            new_sentence += ch\n",
    "    return new_sentence"
   ]
  },
  {
   "cell_type": "markdown",
   "metadata": {},
   "source": [
    "* 특수문자 필터링"
   ]
  },
  {
   "cell_type": "code",
   "execution_count": 4,
   "metadata": {},
   "outputs": [],
   "source": [
    "def special_filter(sentence):\n",
    "    SENTENCE_MARK = ['?', '!']\n",
    "    NOISE = ['o', 'n', 'u', 'b', 'l']\n",
    "    EXCEPT = ['/', '+', '*', '-', '@', '$', '^', '&', '[', ']', '=', ':', ';', ',', '.']\n",
    "    import re\n",
    "    new_sentence = str()\n",
    "    \n",
    "    for idx, ch in enumerate(sentence):\n",
    "        if ch not in SENTENCE_MARK:\n",
    "            # o/, n/ 등 처리\n",
    "            if idx + 1 < len(sentence) and ch in NOISE and sentence[idx+1] == '/': \n",
    "                continue \n",
    "\n",
    "        if ch == '#': \n",
    "            new_sentence += '샾'\n",
    "        elif ch not in EXCEPT: \n",
    "            new_sentence += ch\n",
    "            \n",
    "    pattern = re.compile(r'\\s\\s+')\n",
    "    new_sentence = re.sub(pattern, ' ', new_sentence.strip())\n",
    "    return new_sentence"
   ]
  },
  {
   "cell_type": "markdown",
   "metadata": {},
   "source": [
    "* 위의 두 함수를 불러서 문자열을 필터링"
   ]
  },
  {
   "cell_type": "code",
   "execution_count": 5,
   "metadata": {},
   "outputs": [],
   "source": [
    "def sentence_filter(raw_sentence):\n",
    "    return special_filter(bracket_filter(raw_sentence))"
   ]
  },
  {
   "cell_type": "code",
   "execution_count": null,
   "metadata": {},
   "outputs": [
    {
     "name": "stderr",
     "output_type": "stream",
     "text": [
      "\r",
      "  0%|                                                                                          | 0/124 [00:00<?, ?it/s]"
     ]
    }
   ],
   "source": [
    "for t_dir in TOP_DIRS:\n",
    "    dir_list = os.listdir(os.path.join(BASEPATH, t_dir))\n",
    "    \n",
    "    for idx in trange(len(dir_list)):\n",
    "        file_list = os.listdir(os.path.join(BASEPATH, t_dir, dir_list[idx]))\n",
    "        \n",
    "        for file in file_list:\n",
    "            if file.endswith('_new.txt'):\n",
    "                continue\n",
    "                \n",
    "            elif file.endswith('.txt'):\n",
    "                f = open(os.path.join(BASEPATH, t_dir, dir_list[idx], file), mode=\"r\")\n",
    "                raw_sentence = f.readline()\n",
    "                new_sentence = sentence_filter(raw_sentence)\n",
    "                f.close()\n",
    "                \n",
    "                f = open(os.path.join('E:/AIHub', file), mode=\"w\")\n",
    "                f.write(new_sentence)\n",
    "                f.close()\n",
    "                \n",
    "            elif file.endswith('.pcm'):\n",
    "                shutil.copy(os.path.join(BASEPATH, t_dir, dir_list[idx], file), 'E:/AIHub')\n",
    "                \n",
    "            else:\n",
    "                print(file)"
   ]
  },
  {
   "cell_type": "code",
   "execution_count": null,
   "metadata": {},
   "outputs": [],
   "source": []
  }
 ],
 "metadata": {
  "kernelspec": {
   "display_name": "Python 3",
   "language": "python",
   "name": "python3"
  },
  "language_info": {
   "codemirror_mode": {
    "name": "ipython",
    "version": 3
   },
   "file_extension": ".py",
   "mimetype": "text/x-python",
   "name": "python",
   "nbconvert_exporter": "python",
   "pygments_lexer": "ipython3",
   "version": "3.7.1"
  }
 },
 "nbformat": 4,
 "nbformat_minor": 2
}
