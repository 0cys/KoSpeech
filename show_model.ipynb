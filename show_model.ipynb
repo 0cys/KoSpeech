{
 "cells": [
  {
   "cell_type": "code",
   "execution_count": 14,
   "metadata": {},
   "outputs": [],
   "source": [
    "from models.EncoderRNN import EncoderRNN\n",
    "from models.DecoderRNN import DecoderRNN\n",
    "from models.seq2seq import Seq2seq\n",
    "\n",
    "enc = EncoderRNN(80, 256 ,\n",
    "                 input_dropout_p = 0.3, dropout_p = 0.3,\n",
    "                 n_layers = 6,\n",
    "                 bidirectional = True, rnn_cell = 'gru', variable_lengths = False)\n",
    "\n",
    "dec = DecoderRNN(800, 80, 512,\n",
    "                 '<s>', '</s>',\n",
    "                 layer_size = 6, rnn_cell = 'gru', bidirectional = True,\n",
    "                 input_dropout_p = 0.3, dropout_p = 0.3, use_attention = True)"
   ]
  },
  {
   "cell_type": "code",
   "execution_count": 15,
   "metadata": {},
   "outputs": [],
   "source": [
    "model = Seq2seq(enc, dec)"
   ]
  },
  {
   "cell_type": "code",
   "execution_count": 16,
   "metadata": {},
   "outputs": [
    {
     "data": {
      "text/plain": [
       "Seq2seq(\n",
       "  (encoder): EncoderRNN(\n",
       "    (input_dropout): Dropout(p=0.3, inplace=False)\n",
       "    (conv): Sequential(\n",
       "      (0): Conv2d(1, 64, kernel_size=(3, 3), stride=(1, 1), padding=(1, 1), bias=False)\n",
       "      (1): Hardtanh(min_val=0, max_val=20, inplace=True)\n",
       "      (2): BatchNorm2d(64, eps=1e-05, momentum=0.1, affine=True, track_running_stats=True)\n",
       "      (3): Conv2d(64, 64, kernel_size=(3, 3), stride=(1, 1), padding=(1, 1), bias=False)\n",
       "      (4): Hardtanh(min_val=0, max_val=20, inplace=True)\n",
       "      (5): MaxPool2d(kernel_size=2, stride=2, padding=0, dilation=1, ceil_mode=False)\n",
       "      (6): BatchNorm2d(64, eps=1e-05, momentum=0.1, affine=True, track_running_stats=True)\n",
       "      (7): Conv2d(64, 128, kernel_size=(3, 3), stride=(1, 1), padding=(1, 1), bias=False)\n",
       "      (8): Hardtanh(min_val=0, max_val=20, inplace=True)\n",
       "      (9): BatchNorm2d(128, eps=1e-05, momentum=0.1, affine=True, track_running_stats=True)\n",
       "      (10): Conv2d(128, 128, kernel_size=(3, 3), stride=(1, 1), padding=(1, 1), bias=False)\n",
       "      (11): Hardtanh(min_val=0, max_val=20, inplace=True)\n",
       "      (12): BatchNorm2d(128, eps=1e-05, momentum=0.1, affine=True, track_running_stats=True)\n",
       "      (13): Conv2d(128, 256, kernel_size=(3, 3), stride=(1, 1), padding=(1, 1), bias=False)\n",
       "      (14): Hardtanh(min_val=0, max_val=20, inplace=True)\n",
       "      (15): BatchNorm2d(256, eps=1e-05, momentum=0.1, affine=True, track_running_stats=True)\n",
       "      (16): MaxPool2d(kernel_size=2, stride=2, padding=0, dilation=1, ceil_mode=False)\n",
       "    )\n",
       "    (rnn): GRU(5120, 256, num_layers=6, batch_first=True, dropout=0.3, bidirectional=True)\n",
       "  )\n",
       "  (decoder): DecoderRNN(\n",
       "    (input_dropout): Dropout(p=0.3, inplace=False)\n",
       "    (rnn): GRU(512, 512, num_layers=6, batch_first=True, dropout=0.3)\n",
       "    (embedding): Embedding(800, 512)\n",
       "    (out): Linear(in_features=512, out_features=800, bias=True)\n",
       "    (attention): Attention(\n",
       "      (linear_out): Linear(in_features=1024, out_features=512, bias=True)\n",
       "    )\n",
       "  )\n",
       ")"
      ]
     },
     "execution_count": 16,
     "metadata": {},
     "output_type": "execute_result"
    }
   ],
   "source": [
    "model"
   ]
  },
  {
   "cell_type": "code",
   "execution_count": null,
   "metadata": {},
   "outputs": [],
   "source": []
  }
 ],
 "metadata": {
  "kernelspec": {
   "display_name": "Python 3",
   "language": "python",
   "name": "python3"
  },
  "language_info": {
   "codemirror_mode": {
    "name": "ipython",
    "version": 3
   },
   "file_extension": ".py",
   "mimetype": "text/x-python",
   "name": "python",
   "nbconvert_exporter": "python",
   "pygments_lexer": "ipython3",
   "version": "3.7.1"
  }
 },
 "nbformat": 4,
 "nbformat_minor": 2
}
