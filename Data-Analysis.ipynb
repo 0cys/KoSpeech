{
 "cells": [
  {
   "cell_type": "code",
   "execution_count": 1,
   "metadata": {},
   "outputs": [],
   "source": [
    "import pickle\n",
    "target_dict = None\n",
    "with open(\"./data/pickle/target_dict.bin\", \"rb\") as f:\n",
    "    target_dict = pickle.load(f)"
   ]
  },
  {
   "cell_type": "code",
   "execution_count": 2,
   "metadata": {},
   "outputs": [],
   "source": [
    "targets = target_dict.values()\n",
    "target_lengths = list()\n",
    "\n",
    "for target in targets:\n",
    "    target_lengths.append(len(target.split()))"
   ]
  },
  {
   "cell_type": "code",
   "execution_count": 3,
   "metadata": {},
   "outputs": [
    {
     "data": {
      "text/html": [
       "<div>\n",
       "<style scoped>\n",
       "    .dataframe tbody tr th:only-of-type {\n",
       "        vertical-align: middle;\n",
       "    }\n",
       "\n",
       "    .dataframe tbody tr th {\n",
       "        vertical-align: top;\n",
       "    }\n",
       "\n",
       "    .dataframe thead th {\n",
       "        text-align: right;\n",
       "    }\n",
       "</style>\n",
       "<table border=\"1\" class=\"dataframe\">\n",
       "  <thead>\n",
       "    <tr style=\"text-align: right;\">\n",
       "      <th></th>\n",
       "      <th>length</th>\n",
       "    </tr>\n",
       "  </thead>\n",
       "  <tbody>\n",
       "    <tr>\n",
       "      <th>0</th>\n",
       "      <td>16</td>\n",
       "    </tr>\n",
       "    <tr>\n",
       "      <th>1</th>\n",
       "      <td>17</td>\n",
       "    </tr>\n",
       "    <tr>\n",
       "      <th>2</th>\n",
       "      <td>20</td>\n",
       "    </tr>\n",
       "    <tr>\n",
       "      <th>3</th>\n",
       "      <td>23</td>\n",
       "    </tr>\n",
       "    <tr>\n",
       "      <th>4</th>\n",
       "      <td>104</td>\n",
       "    </tr>\n",
       "  </tbody>\n",
       "</table>\n",
       "</div>"
      ],
      "text/plain": [
       "   length\n",
       "0      16\n",
       "1      17\n",
       "2      20\n",
       "3      23\n",
       "4     104"
      ]
     },
     "execution_count": 3,
     "metadata": {},
     "output_type": "execute_result"
    }
   ],
   "source": [
    "import pandas as pd\n",
    "\n",
    "target_lengths = pd.DataFrame({\"length\" : target_lengths})\n",
    "target_lengths.head()"
   ]
  },
  {
   "cell_type": "code",
   "execution_count": 4,
   "metadata": {},
   "outputs": [
    {
     "data": {
      "image/png": "[encoded data removed]",
      "text/plain": [
       "<Figure size 576x432 with 1 Axes>"
      ]
     },
     "metadata": {
      "needs_background": "light"
     },
     "output_type": "display_data"
    }
   ],
   "source": [
    "import matplotlib.pyplot as plt\n",
    "import numpy as np\n",
    "import seaborn as sns\n",
    "\n",
    "sns.set_style(\"whitegrid\")\n",
    "%matplotlib inline\n",
    "\n",
    "plt.figure(figsize=(8,6))\n",
    "sns.boxplot(y=\"length\",data=target_lengths)\n",
    "plt.show()"
   ]
  },
  {
   "cell_type": "code",
   "execution_count": 18,
   "metadata": {},
   "outputs": [],
   "source": [
    "length_group = []\n",
    "length_group.append(target_lengths[(target_lengths[\"length\"] > 0) & (target_lengths[\"length\"] < 50)].count())\n",
    "length_group.append(target_lengths[(target_lengths[\"length\"] > 50) & (target_lengths[\"length\"] < 100)].count())\n",
    "length_group.append(target_lengths[(target_lengths[\"length\"] > 100) & (target_lengths[\"length\"] < 150)].count())\n",
    "length_group.append(target_lengths[(target_lengths[\"length\"] > 150) & (target_lengths[\"length\"] < 200)].count())\n",
    "length_group.append(target_lengths[(target_lengths[\"length\"] > 200) & (target_lengths[\"length\"] < 250)].count())\n",
    "length_group.append(target_lengths[(target_lengths[\"length\"] > 250) & (target_lengths[\"length\"] < 300)].count())\n",
    "length_group.append(target_lengths[(target_lengths[\"length\"] > 300) & (target_lengths[\"length\"] < 350)].count())"
   ]
  },
  {
   "cell_type": "code",
   "execution_count": 20,
   "metadata": {},
   "outputs": [
    {
     "data": {
      "image/png": "[encoded data removed]",
      "text/plain": [
       "<Figure size 432x288 with 1 Axes>"
      ]
     },
     "metadata": {
      "needs_background": "light"
     },
     "output_type": "display_data"
    }
   ],
   "source": [
    "plt.plot(length_group)\n",
    "plt.show()"
   ]
  },
  {
   "cell_type": "code",
   "execution_count": 21,
   "metadata": {},
   "outputs": [
    {
     "data": {
      "text/plain": [
       "length    7\n",
       "dtype: int64"
      ]
     },
     "execution_count": 21,
     "metadata": {},
     "output_type": "execute_result"
    }
   ],
   "source": [
    "length_group[6]"
   ]
  },
  {
   "cell_type": "code",
   "execution_count": 22,
   "metadata": {},
   "outputs": [
    {
     "data": {
      "text/plain": [
       "length    142\n",
       "dtype: int64"
      ]
     },
     "execution_count": 22,
     "metadata": {},
     "output_type": "execute_result"
    }
   ],
   "source": [
    "length_group[5]"
   ]
  },
  {
   "cell_type": "code",
   "execution_count": 4,
   "metadata": {},
   "outputs": [
    {
     "name": "stdout",
     "output_type": "stream",
     "text": [
      "[2020-03-04 00:04:01,430 hparams.py:100 - logger_hparams()] use_bidirectional : True\n",
      "[2020-03-04 00:04:01,433 hparams.py:101 - logger_hparams()] use_attention : True\n",
      "[2020-03-04 00:04:01,435 hparams.py:102 - logger_hparams()] use_pickle : False\n",
      "[2020-03-04 00:04:01,437 hparams.py:103 - logger_hparams()] use_augment : True\n",
      "[2020-03-04 00:04:01,439 hparams.py:104 - logger_hparams()] use_pyramidal : True\n",
      "[2020-03-04 00:04:01,440 hparams.py:105 - logger_hparams()] attention : self\n",
      "[2020-03-04 00:04:01,442 hparams.py:106 - logger_hparams()] augment_ratio : 1.00\n",
      "[2020-03-04 00:04:01,444 hparams.py:107 - logger_hparams()] input_reverse : True\n",
      "[2020-03-04 00:04:01,446 hparams.py:108 - logger_hparams()] hidden_size : 256\n",
      "[2020-03-04 00:04:01,448 hparams.py:109 - logger_hparams()] listener_layer_size : 6\n",
      "[2020-03-04 00:04:01,450 hparams.py:110 - logger_hparams()] speller_layer_size : 3\n",
      "[2020-03-04 00:04:01,451 hparams.py:111 - logger_hparams()] dropout : 0.50\n",
      "[2020-03-04 00:04:01,453 hparams.py:112 - logger_hparams()] batch_size : 8\n",
      "[2020-03-04 00:04:01,455 hparams.py:113 - logger_hparams()] worker_num : 1\n",
      "[2020-03-04 00:04:01,456 hparams.py:114 - logger_hparams()] max_epochs : 40\n",
      "[2020-03-04 00:04:01,458 hparams.py:115 - logger_hparams()] initial learning rate : 0.0001\n",
      "[2020-03-04 00:04:01,460 hparams.py:119 - logger_hparams()] teacher_forcing_ratio : 0.90\n",
      "[2020-03-04 00:04:01,463 hparams.py:120 - logger_hparams()] seed : 1\n",
      "[2020-03-04 00:04:01,464 hparams.py:121 - logger_hparams()] max_len : 328\n",
      "[2020-03-04 00:04:01,466 hparams.py:122 - logger_hparams()] use_cuda : True\n"
     ]
    }
   ],
   "source": [
    "import queue\n",
    "import torch.nn as nn\n",
    "import torch.optim as optim\n",
    "import random\n",
    "import torch\n",
    "import time\n",
    "import os\n",
    "from utils.define import *\n",
    "from utils.dataset import split_dataset\n",
    "from utils.hparams import HyperParams\n",
    "from utils.loader import BaseDataLoader, MultiLoader\n",
    "from utils.load import load_targets, load_data_list, load_pickle\n",
    "from utils.save import save_epoch_result\n",
    "from models.speller import Speller\n",
    "from models.listener import Listener\n",
    "from models.listenAttendSpell import ListenAttendSpell\n",
    "from train.loss import LabelSmoothingLoss\n",
    "from train.evaluator import evaluate\n",
    "from train.trainer import train\n",
    "\n",
    "\n",
    "if __name__ == '__main__':\n",
    "    hparams = HyperParams()\n",
    "    hparams.logger_hparams()\n",
    "\n",
    "    random.seed(hparams.seed)\n",
    "    torch.manual_seed(hparams.seed)\n",
    "    torch.cuda.manual_seed_all(hparams.seed)\n",
    "    cuda = hparams.use_cuda and torch.cuda.is_available()\n",
    "    device = torch.device('cuda' if cuda else 'cpu')\n",
    "\n",
    "    listener = Listener(\n",
    "        feat_size = 128,\n",
    "        hidden_size = hparams.hidden_size,\n",
    "        dropout_p = hparams.dropout,\n",
    "        layer_size = hparams.listener_layer_size,\n",
    "        bidirectional = hparams.use_bidirectional,\n",
    "        rnn_cell = 'gru',\n",
    "        use_pyramidal = hparams.use_pyramidal\n",
    "    )\n",
    "    speller = Speller(\n",
    "        vocab_size = len(char2id),\n",
    "        max_len = hparams.max_len,\n",
    "        k = 8,\n",
    "        hidden_size = hparams.hidden_size << (1 if hparams.use_bidirectional else 0),\n",
    "        sos_id = SOS_TOKEN,\n",
    "        eos_id = EOS_TOKEN,\n",
    "        layer_size = hparams.speller_layer_size,\n",
    "        score_function = hparams.score_function,\n",
    "        rnn_cell = 'gru',\n",
    "        dropout_p = hparams.dropout,\n",
    "        use_attention = hparams.use_attention,\n",
    "        device = device\n",
    "    )\n",
    "    model = ListenAttendSpell(listener, speller, use_pyramidal = hparams.use_pyramidal)"
   ]
  },
  {
   "cell_type": "code",
   "execution_count": 5,
   "metadata": {},
   "outputs": [
    {
     "data": {
      "text/plain": [
       "ListenAttendSpell(\n",
       "  (listener): Listener(\n",
       "    (conv): Sequential(\n",
       "      (0): Conv2d(1, 64, kernel_size=(3, 3), stride=(1, 1), padding=(1, 1))\n",
       "      (1): Hardtanh(min_val=0, max_val=20, inplace=True)\n",
       "      (2): BatchNorm2d(64, eps=1e-05, momentum=0.1, affine=True, track_running_stats=True)\n",
       "      (3): Conv2d(64, 64, kernel_size=(3, 3), stride=(1, 1), padding=(1, 1))\n",
       "      (4): Hardtanh(min_val=0, max_val=20, inplace=True)\n",
       "      (5): MaxPool2d(kernel_size=2, stride=2, padding=0, dilation=1, ceil_mode=False)\n",
       "      (6): BatchNorm2d(64, eps=1e-05, momentum=0.1, affine=True, track_running_stats=True)\n",
       "      (7): Conv2d(64, 128, kernel_size=(3, 3), stride=(1, 1), padding=(1, 1))\n",
       "      (8): Hardtanh(min_val=0, max_val=20, inplace=True)\n",
       "      (9): BatchNorm2d(128, eps=1e-05, momentum=0.1, affine=True, track_running_stats=True)\n",
       "      (10): Conv2d(128, 128, kernel_size=(3, 3), stride=(1, 1), padding=(1, 1))\n",
       "      (11): Hardtanh(min_val=0, max_val=20, inplace=True)\n",
       "      (12): BatchNorm2d(128, eps=1e-05, momentum=0.1, affine=True, track_running_stats=True)\n",
       "      (13): Conv2d(128, 128, kernel_size=(3, 3), stride=(1, 1), padding=(1, 1))\n",
       "      (14): Hardtanh(min_val=0, max_val=20, inplace=True)\n",
       "      (15): BatchNorm2d(128, eps=1e-05, momentum=0.1, affine=True, track_running_stats=True)\n",
       "      (16): MaxPool2d(kernel_size=2, stride=2, padding=0, dilation=1, ceil_mode=False)\n",
       "    )\n",
       "    (bottom_rnn): GRU(4096, 256, num_layers=2, batch_first=True, dropout=0.5, bidirectional=True)\n",
       "    (middle_rnn): PyramidalRNN(\n",
       "      (rnn): GRU(1024, 256, num_layers=2, batch_first=True, dropout=0.5, bidirectional=True)\n",
       "    )\n",
       "    (top_rnn): PyramidalRNN(\n",
       "      (rnn): GRU(1024, 256, num_layers=2, batch_first=True, dropout=0.5, bidirectional=True)\n",
       "    )\n",
       "  )\n",
       "  (speller): Speller(\n",
       "    (rnn): GRU(512, 512, num_layers=3, batch_first=True, dropout=0.5)\n",
       "    (embedding): Embedding(2040, 512)\n",
       "    (input_dropout): Dropout(p=0.5, inplace=False)\n",
       "    (attention): Attention(\n",
       "      (attention): SelfAttention(\n",
       "        (W): Linear(in_features=1024, out_features=512, bias=True)\n",
       "      )\n",
       "    )\n",
       "    (out): Linear(in_features=512, out_features=2040, bias=True)\n",
       "  )\n",
       ")"
      ]
     },
     "execution_count": 5,
     "metadata": {},
     "output_type": "execute_result"
    }
   ],
   "source": [
    "model"
   ]
  },
  {
   "cell_type": "code",
   "execution_count": null,
   "metadata": {},
   "outputs": [],
   "source": []
  }
 ],
 "metadata": {
  "kernelspec": {
   "display_name": "Python 3",
   "language": "python",
   "name": "python3"
  },
  "language_info": {
   "codemirror_mode": {
    "name": "ipython",
    "version": 3
   },
   "file_extension": ".py",
   "mimetype": "text/x-python",
   "name": "python",
   "nbconvert_exporter": "python",
   "pygments_lexer": "ipython3",
   "version": "3.7.1"
  }
 },
 "nbformat": 4,
 "nbformat_minor": 2
}
