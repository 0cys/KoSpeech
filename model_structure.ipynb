{
 "cells": [
  {
   "cell_type": "code",
   "execution_count": 1,
   "metadata": {},
   "outputs": [
    {
     "data": {
      "text/plain": [
       "Seq2seq(\n",
       "  (encoder): EncoderRNN(\n",
       "    (input_dropout): Dropout(p=0.5, inplace=False)\n",
       "    (conv): Sequential(\n",
       "      (0): Conv2d(1, 64, kernel_size=(3, 3), stride=(1, 1), padding=(1, 1), bias=False)\n",
       "      (1): Hardtanh(min_val=0, max_val=20, inplace=True)\n",
       "      (2): BatchNorm2d(64, eps=1e-05, momentum=0.1, affine=True, track_running_stats=True)\n",
       "      (3): Conv2d(64, 64, kernel_size=(3, 3), stride=(1, 1), padding=(1, 1), bias=False)\n",
       "      (4): Hardtanh(min_val=0, max_val=20, inplace=True)\n",
       "      (5): MaxPool2d(kernel_size=2, stride=2, padding=0, dilation=1, ceil_mode=False)\n",
       "      (6): BatchNorm2d(64, eps=1e-05, momentum=0.1, affine=True, track_running_stats=True)\n",
       "      (7): Conv2d(64, 128, kernel_size=(3, 3), stride=(1, 1), padding=(1, 1), bias=False)\n",
       "      (8): Hardtanh(min_val=0, max_val=20, inplace=True)\n",
       "      (9): BatchNorm2d(128, eps=1e-05, momentum=0.1, affine=True, track_running_stats=True)\n",
       "      (10): Conv2d(128, 128, kernel_size=(3, 3), stride=(1, 1), padding=(1, 1), bias=False)\n",
       "      (11): Hardtanh(min_val=0, max_val=20, inplace=True)\n",
       "      (12): BatchNorm2d(128, eps=1e-05, momentum=0.1, affine=True, track_running_stats=True)\n",
       "      (13): Conv2d(128, 256, kernel_size=(3, 3), stride=(1, 1), padding=(1, 1), bias=False)\n",
       "      (14): Hardtanh(min_val=0, max_val=20, inplace=True)\n",
       "      (15): BatchNorm2d(256, eps=1e-05, momentum=0.1, affine=True, track_running_stats=True)\n",
       "      (16): MaxPool2d(kernel_size=2, stride=2, padding=0, dilation=1, ceil_mode=False)\n",
       "    )\n",
       "    (rnn): GRU(5120, 256, num_layers=5, batch_first=True, dropout=0.5, bidirectional=True)\n",
       "  )\n",
       "  (decoder): DecoderRNN(\n",
       "    (input_dropout): Dropout(p=0.5, inplace=False)\n",
       "    (rnn): GRU(512, 512, num_layers=3, batch_first=True, dropout=0.5)\n",
       "    (embedding): Embedding(2040, 512)\n",
       "    (out): Linear(in_features=512, out_features=2040, bias=True)\n",
       "    (attention): Attention(\n",
       "      (linear_out): Linear(in_features=1024, out_features=512, bias=True)\n",
       "    )\n",
       "  )\n",
       ")"
      ]
     },
     "execution_count": 1,
     "metadata": {},
     "output_type": "execute_result"
    }
   ],
   "source": [
    "from models.encoderRNN import EncoderRNN\n",
    "from models.decoderRNN import DecoderRNN\n",
    "from models.seq2seq import Seq2seq\n",
    "enc = EncoderRNN(80, 256,\n",
    "                     input_dropout_p = 0.5, dropout_p = 0.5,\n",
    "                     n_layers = 5,\n",
    "                     bidirectional = True, rnn_cell = 'gru', variable_lengths = False)\n",
    "\n",
    "dec = DecoderRNN(2040, 80, 256 * 2,\n",
    "                     2037, 2038,\n",
    "                     layer_size = 3, rnn_cell = 'gru', bidirectional = True,\n",
    "                     input_dropout_p = 0.5, dropout_p = 0.5, use_attention = True)\n",
    "\n",
    "model = Seq2seq(enc, dec)\n",
    "model"
   ]
  },
  {
   "cell_type": "code",
   "execution_count": 6,
   "metadata": {},
   "outputs": [
    {
     "name": "stdout",
     "output_type": "stream",
     "text": [
      "[[  0   1   2   3   4   5   6   7   8   9]\n",
      " [ 10  11  12  13  14  15  16  17  18  19]\n",
      " [ 20  21  22  23  24  25  26  27  28  29]\n",
      " [ 30  31  32  33  34  35  36  37  38  39]\n",
      " [ 40  41  42  43  44  45  46  47  48  49]\n",
      " [ 50  51  52  53  54  55  56  57  58  59]\n",
      " [ 60  61  62  63  64  65  66  67  68  69]\n",
      " [ 70  71  72  73  74  75  76  77  78  79]\n",
      " [ 80  81  82  83  84  85  86  87  88  89]\n",
      " [ 90  91  92  93  94  95  96  97  98  99]\n",
      " [100 101 102 103 104 105 106 107 108 109]\n",
      " [110 111 112 113 114 115 116 117 118 119]\n",
      " [120 121 122 123 124 125 126 127 128 129]\n",
      " [130 131 132 133 134 135 136 137 138 139]\n",
      " [140 141 142 143 144 145 146 147 148 149]\n",
      " [150 151 152 153 154 155 156 157 158 159]\n",
      " [160 161 162 163 164 165 166 167 168 169]\n",
      " [170 171 172 173 174 175 176 177 178 179]\n",
      " [180 181 182 183 184 185 186 187 188 189]\n",
      " [190 191 192 193 194 195 196 197 198 199]\n",
      " [200 201 202 203 204 205 206 207 208 209]\n",
      " [210 211 212 213 214 215 216 217 218 219]\n",
      " [220 221 222 223 224 225 226 227 228 229]\n",
      " [230 231 232 233 234 235 236 237 238 239]\n",
      " [240 241 242 243 244 245 246 247 248 249]\n",
      " [250 251 252 253 254 255 256 257 258 259]\n",
      " [260 261 262 263 264 265 266 267 268 269]\n",
      " [270 271 272 273 274 275 276 277 278 279]\n",
      " [280 281 282 283 284 285 286 287 288 289]\n",
      " [290 291 292 293 294 295 296 297 298 299]\n",
      " [300 301 302 303 304 305 306 307 308 309]\n",
      " [310 311 312 313 314 315 316 317 318 319]\n",
      " [320 321 322 323 324 325 326 327 328 329]]\n"
     ]
    },
    {
     "data": {
      "text/plain": [
       "array([[  9,  19,  29,  39,  49,  59,  69,  79,  89,  99, 109, 119, 129,\n",
       "        139, 149, 159, 169, 179, 189, 199, 209, 219, 229, 239, 249, 259,\n",
       "        269, 279, 289, 299, 309, 319, 329],\n",
       "       [  8,  18,  28,  38,  48,  58,  68,  78,  88,  98, 108, 118, 128,\n",
       "        138, 148, 158, 168, 178, 188, 198, 208, 218, 228, 238, 248, 258,\n",
       "        268, 278, 288, 298, 308, 318, 328],\n",
       "       [  7,  17,  27,  37,  47,  57,  67,  77,  87,  97, 107, 117, 127,\n",
       "        137, 147, 157, 167, 177, 187, 197, 207, 217, 227, 237, 247, 257,\n",
       "        267, 277, 287, 297, 307, 317, 327],\n",
       "       [  6,  16,  26,  36,  46,  56,  66,  76,  86,  96, 106, 116, 126,\n",
       "        136, 146, 156, 166, 176, 186, 196, 206, 216, 226, 236, 246, 256,\n",
       "        266, 276, 286, 296, 306, 316, 326],\n",
       "       [  5,  15,  25,  35,  45,  55,  65,  75,  85,  95, 105, 115, 125,\n",
       "        135, 145, 155, 165, 175, 185, 195, 205, 215, 225, 235, 245, 255,\n",
       "        265, 275, 285, 295, 305, 315, 325],\n",
       "       [  4,  14,  24,  34,  44,  54,  64,  74,  84,  94, 104, 114, 124,\n",
       "        134, 144, 154, 164, 174, 184, 194, 204, 214, 224, 234, 244, 254,\n",
       "        264, 274, 284, 294, 304, 314, 324],\n",
       "       [  3,  13,  23,  33,  43,  53,  63,  73,  83,  93, 103, 113, 123,\n",
       "        133, 143, 153, 163, 173, 183, 193, 203, 213, 223, 233, 243, 253,\n",
       "        263, 273, 283, 293, 303, 313, 323],\n",
       "       [  2,  12,  22,  32,  42,  52,  62,  72,  82,  92, 102, 112, 122,\n",
       "        132, 142, 152, 162, 172, 182, 192, 202, 212, 222, 232, 242, 252,\n",
       "        262, 272, 282, 292, 302, 312, 322],\n",
       "       [  1,  11,  21,  31,  41,  51,  61,  71,  81,  91, 101, 111, 121,\n",
       "        131, 141, 151, 161, 171, 181, 191, 201, 211, 221, 231, 241, 251,\n",
       "        261, 271, 281, 291, 301, 311, 321],\n",
       "       [  0,  10,  20,  30,  40,  50,  60,  70,  80,  90, 100, 110, 120,\n",
       "        130, 140, 150, 160, 170, 180, 190, 200, 210, 220, 230, 240, 250,\n",
       "        260, 270, 280, 290, 300, 310, 320]])"
      ]
     },
     "execution_count": 6,
     "metadata": {},
     "output_type": "execute_result"
    }
   ],
   "source": [
    "import numpy as np\n",
    "feat = np.arange(33*10).reshape(33,10)\n",
    "print(feat)\n",
    "np.ascontiguousarray(np.swapaxes(feat[:,::-1],0,1))"
   ]
  },
  {
   "cell_type": "code",
   "execution_count": null,
   "metadata": {},
   "outputs": [],
   "source": []
  }
 ],
 "metadata": {
  "kernelspec": {
   "display_name": "Python 3",
   "language": "python",
   "name": "python3"
  },
  "language_info": {
   "codemirror_mode": {
    "name": "ipython",
    "version": 3
   },
   "file_extension": ".py",
   "mimetype": "text/x-python",
   "name": "python",
   "nbconvert_exporter": "python",
   "pygments_lexer": "ipython3",
   "version": "3.7.1"
  }
 },
 "nbformat": 4,
 "nbformat_minor": 2
}
